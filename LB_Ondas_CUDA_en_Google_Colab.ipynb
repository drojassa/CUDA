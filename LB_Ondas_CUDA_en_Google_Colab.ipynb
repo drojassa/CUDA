{
  "nbformat": 4,
  "nbformat_minor": 0,
  "metadata": {
    "colab": {
      "provenance": [],
      "include_colab_link": true
    },
    "kernelspec": {
      "name": "python3",
      "display_name": "Python 3"
    },
    "language_info": {
      "name": "python"
    },
    "accelerator": "GPU",
    "gpuClass": "standard"
  },
  "cells": [
    {
      "cell_type": "markdown",
      "metadata": {
        "id": "view-in-github",
        "colab_type": "text"
      },
      "source": [
        "<a href=\"https://colab.research.google.com/github/drojassa/CUDA/blob/main/LB_Ondas_CUDA_en_Google_Colab.ipynb\" target=\"_parent\"><img src=\"https://colab.research.google.com/assets/colab-badge.svg\" alt=\"Open In Colab\"/></a>"
      ]
    },
    {
      "cell_type": "markdown",
      "source": [
        "## **Ejecución de código CUDA en GOOGLE COLAB**\n"
      ],
      "metadata": {
        "id": "Ee9N2kQVIFOg"
      }
    },
    {
      "cell_type": "markdown",
      "source": [
        "1. En el Entorno de ejecución se escoge la opción, Acelerador por GPU"
      ],
      "metadata": {
        "id": "1_bJW-shHihz"
      }
    },
    {
      "cell_type": "markdown",
      "source": [
        "2. Se carga Preámbulo para verificar GPU asignada"
      ],
      "metadata": {
        "id": "wcRKElN6IWd7"
      }
    },
    {
      "cell_type": "code",
      "source": [
        "# Mostrar si hay un toolkit CUDA instalado\n",
        "!ls /usr/local\n",
        "# Para mostrar si esta el comando nvcc disponible\n",
        "!which nvcc\n",
        "# Mostrar la tarjeta nvidia adjudicada\n",
        "gpu_info = !nvidia-smi\n",
        "gpu_info = '\\n'.join(gpu_info)\n",
        "if gpu_info.find('failed') >= 0:\n",
        "  print('Not connected to a GPU')\n",
        "else:\n",
        "  print(gpu_info)"
      ],
      "metadata": {
        "colab": {
          "base_uri": "https://localhost:8080/"
        },
        "id": "oRiBwgEGnuk9",
        "outputId": "0c4cd276-44f1-48a4-dfb2-e427e747bd4e"
      },
      "execution_count": null,
      "outputs": [
        {
          "output_type": "stream",
          "name": "stdout",
          "text": [
            "bin   cuda-11\t etc\t_gcs_config_ops.so  lib        man   share  xgboost\n",
            "cuda  cuda-11.2  games\tinclude\t\t    licensing  sbin  src\n",
            "/usr/local/cuda/bin/nvcc\n",
            "Thu Nov 17 02:17:27 2022       \n",
            "+-----------------------------------------------------------------------------+\n",
            "| NVIDIA-SMI 460.32.03    Driver Version: 460.32.03    CUDA Version: 11.2     |\n",
            "|-------------------------------+----------------------+----------------------+\n",
            "| GPU  Name        Persistence-M| Bus-Id        Disp.A | Volatile Uncorr. ECC |\n",
            "| Fan  Temp  Perf  Pwr:Usage/Cap|         Memory-Usage | GPU-Util  Compute M. |\n",
            "|                               |                      |               MIG M. |\n",
            "|===============================+======================+======================|\n",
            "|   0  Tesla T4            Off  | 00000000:00:04.0 Off |                    0 |\n",
            "| N/A   69C    P8    11W /  70W |      0MiB / 15109MiB |      0%      Default |\n",
            "|                               |                      |                  N/A |\n",
            "+-------------------------------+----------------------+----------------------+\n",
            "                                                                               \n",
            "+-----------------------------------------------------------------------------+\n",
            "| Processes:                                                                  |\n",
            "|  GPU   GI   CI        PID   Type   Process name                  GPU Memory |\n",
            "|        ID   ID                                                   Usage      |\n",
            "|=============================================================================|\n",
            "|  No running processes found                                                 |\n",
            "+-----------------------------------------------------------------------------+\n"
          ]
        }
      ]
    },
    {
      "cell_type": "markdown",
      "source": [
        "3. Carga el código a utilizar en la carpeta de archivos, mediante el comando %%writefile RunCode.cu, Con el encabezado RunCode.cu. El código va a trabajar se pega debajo de: %%writefile RunCode.cu"
      ],
      "metadata": {
        "id": "T4u00TajKV1Y"
      }
    },
    {
      "cell_type": "code",
      "source": [
        "#Escribe el archivo .cu que se vaya a utilizar\n",
        "\n",
        "%%writefile RunCode.cu\n",
        "\n",
        "//LB D2Q5 en CUDA\n",
        "#include <iostream>\n",
        "#include <fstream>\n",
        "#include <cmath>\n",
        "using namespace std;\n",
        "\n",
        "#define Lx 128\n",
        "#define Ly 128\n",
        "#define N 32 //Threads per Block\n",
        "const int NCells=Lx*Ly;\n",
        "const int M=(NCells+N-1)/N; //Blocks per Grid\n",
        "#define Q 5\n",
        "const int ArraySize=Lx*Ly*Q;\n",
        "const float W0=1.0/3;\n",
        "\n",
        "const float C=0.5; // C<0.7 07 cells/click\n",
        "const float C2=C*C;\n",
        "const float AUX0=1-3*C2*(1-W0);\n",
        "\n",
        "const float tau=0.5;\n",
        "const float Utau=1.0/tau;\n",
        "const float UmUtau=1-Utau;\n",
        "\n",
        "//------------ PROGRAMMING ON THE DEVICE ----------------\n",
        "//---------------Constants (Symbols)----------------\n",
        "__constant__ float d_w[5];\n",
        "__constant__ int d_Vx[5];\n",
        "__constant__ int d_Vy[5];\n",
        "__constant__ float d_C[3];   // d_C[0]=C,  d_C[1]=C2,  d_C[2]=AUX0,\n",
        "__constant__ float d_tau[3]; // d_tau[0]=tau,  d_tau[1]=Utau,  d_tau[2]=UmUtau,\n",
        "\n",
        "//----------Functions called by the device itself (__device__)\n",
        "//data index\n",
        "__device__ int d_n(int ix,int iy,int i){\n",
        "  return (ix*Ly+iy)*Q+i;\n",
        "}\n",
        "//macroscopic fields\n",
        "__device__ float d_rho(int ix,int iy,float *d_f){\n",
        "  float sum; int i,n0;\n",
        "  for(sum=0,i=0;i<Q;i++){\n",
        "    n0=d_n(ix,iy,i); sum+=d_f[n0];\n",
        "  }\n",
        "  return sum;\n",
        "}\n",
        "__device__ float d_Jx(int ix,int iy,float *d_f){\n",
        "  float sum; int i,n0;\n",
        "  for(sum=0,i=0;i<Q;i++){\n",
        "    n0=d_n(ix,iy,i); sum+=d_Vx[i]*d_f[n0];\n",
        "  }\n",
        "  return sum;\n",
        "}\n",
        "__device__ float d_Jy(int ix,int iy,float *d_f){\n",
        "  float sum; int i,n0;\n",
        "  for(sum=0,i=0;i<Q;i++){\n",
        "    n0=d_n(ix,iy,i); sum+=d_Vy[i]*d_f[n0];\n",
        "  }\n",
        "  return sum;\n",
        "}\n",
        "//equilibrium functions\n",
        "__device__ float d_feq(float rho0,float Jx0,float Jy0,int i){\n",
        "  return 3*d_w[i]*(d_C[1]*rho0+d_Vx[i]*Jx0+d_Vy[i]*Jy0);\n",
        "}\n",
        "__device__ float d_f0eq(float rho0,float Jx0,float Jy0){\n",
        "  return rho0*d_C[2];\n",
        "}\n",
        "\n",
        "//---------------------KERNELS----------------------------\n",
        "__global__ void d_Collision(float *d_f,float *d_fnew){\n",
        "  //Define internal registers\n",
        "  int icell,ix,iy,i,n0;  float rho0,Jx0,Jy0;\n",
        "  //Find which thread an which cell should I work\n",
        "  icell=blockIdx.x*blockDim.x+threadIdx.x;\n",
        "  ix=icell/Ly; iy=icell%Ly;\n",
        "  //Compute the macroscopic fields\n",
        "  rho0=d_rho(ix,iy,d_f); //rho\n",
        "  Jx0=d_Jx(ix,iy,d_f);   //Jx0\n",
        "  Jy0=d_Jy(ix,iy,d_f);   //Jy0\n",
        "  //Collide and compute fnew\n",
        "  n0=d_n(ix,iy,0); d_fnew[n0]=d_tau[2]*d_f[n0]+d_tau[1]*d_f0eq(rho0,Jx0,Jy0);\n",
        "  for(i=1;i<Q;i++){ //on each direction\n",
        "    n0=d_n(ix,iy,i); d_fnew[n0]=d_tau[2]*d_f[n0]+d_tau[1]*d_feq(rho0,Jx0,Jy0,i);\n",
        "  }\n",
        "}\n",
        "__global__ void d_ImposeFields(float *d_f,float *d_fnew,float RhoSource){\n",
        "  //Define internal registers\n",
        "  int ix,iy,i,n0;  float rho0,Jx0,Jy0;\n",
        "  //There is only one thread and for one cell in the center\n",
        "  ix=Lx/2; iy=Ly/2;\n",
        "  //Compute the macroscopic fields\n",
        "  rho0=RhoSource; //rho\n",
        "  Jx0=d_Jx(ix,iy,d_f);   //Jx0\n",
        "  Jy0=d_Jy(ix,iy,d_f);   //Jy0\n",
        "  //Collide and compute fnew\n",
        "  n0=d_n(ix,iy,0); d_fnew[n0]=d_f0eq(rho0,Jx0,Jy0);\n",
        "  for(i=1;i<Q;i++){ //on each direction\n",
        "    n0=d_n(ix,iy,i); d_fnew[n0]=d_feq(rho0,Jx0,Jy0,i);\n",
        "  }\n",
        "}\n",
        "__global__ void d_Advection(float *d_f,float *d_fnew){\n",
        "  //Define internal registers\n",
        "  int icell,ix,iy,i,ixnext,iynext,n0,n0next;\n",
        "  //Find which thread an which cell should I work\n",
        "  icell=blockIdx.x*blockDim.x+threadIdx.x;\n",
        "  ix=icell/Ly; iy=icell%Ly;\n",
        "  //Move the contents to the neighboring cells\n",
        "  for(i=0;i<Q;i++){ //on each direction\n",
        "    ixnext=(ix+d_Vx[i]+Lx)%Lx; iynext=(iy+d_Vy[i]+Ly)%Ly;//periodic boundaries\n",
        "    n0=d_n(ix,iy,i); n0next=d_n(ixnext,iynext,i);\n",
        "    d_f[n0next]=d_fnew[n0];\n",
        "  }\n",
        "}\n",
        "//------------ PROGRAMMING ON THE HOST ----------------\n",
        "//--------------------- class LatticeBoltzmann ------------\n",
        "class LatticeBoltzmann{\n",
        "private:\n",
        "  float h_C[3];   // h_C[0]=C,  h_C[1]=C2,  h_C[2]=AUX,\n",
        "  float h_tau[3]; // h_tau[0]=tau,  h_tau[1]=Utau,  h_tau[2]=UmUtau,\n",
        "  float h_w[Q];      //Weights\n",
        "  int h_Vx[Q],h_Vy[Q];  //Velocity vectors\n",
        "  float *h_f, *h_fnew;float *d_f, *d_fnew; //Distribution Functions\n",
        "public:\n",
        "  LatticeBoltzmann(void);\n",
        "  ~LatticeBoltzmann(void);\n",
        "  int h_n(int ix,int iy,int i){return (ix*Ly+iy)*Q+i;};\n",
        "  float h_rho(int ix,int iy);\n",
        "  float h_Jx(int ix,int iy);\n",
        "  float h_Jy(int ix,int iy);\n",
        "  float h_feq(float rho0,float Jx0,float Jy0,int i);\n",
        "  void Collision(void);\n",
        "  void ImposeFields(int t);\n",
        "  void Advection(void);\n",
        "  void Start(float rho0,float Jx0,float Jy0);\n",
        "  void Print(const char * NombreArchivo);\n",
        "};\n",
        "LatticeBoltzmann::LatticeBoltzmann(void){\n",
        "  //CONSTANTS(d_Symbols)\n",
        "  //---Charge constantes on the Host-----------------\n",
        "  //running constants\n",
        "  h_C[0]=C;  h_C[1]=C2;  h_C[2]=AUX0;\n",
        "  h_tau[0]=tau;  h_tau[1]=Utau;  h_tau[2]=UmUtau;\n",
        "  //Set the weights\n",
        "  h_w[0]=W0; h_w[1]=h_w[2]=h_w[3]=h_w[4]=(1.0-W0)/4;\n",
        "  //Set the velocity vectors\n",
        "  h_Vx[0]=0;  h_Vx[1]=1;  h_Vx[2]=0;  h_Vx[3]=-1; h_Vx[4]=0;\n",
        "  h_Vy[0]=0;  h_Vy[1]=0;  h_Vy[2]=1;  h_Vy[3]=0;  h_Vy[4]=-1;\n",
        "  //------Send to the Device-----------------\n",
        "  cudaMemcpyToSymbol(d_w,h_w,Q*sizeof(float),0,cudaMemcpyHostToDevice);\n",
        "  cudaMemcpyToSymbol(d_Vx,h_Vx,Q*sizeof(int),0,cudaMemcpyHostToDevice);\n",
        "  cudaMemcpyToSymbol(d_Vy,h_Vy,Q*sizeof(int),0,cudaMemcpyHostToDevice);\n",
        "  cudaMemcpyToSymbol(d_C,h_C,3*sizeof(float),0,cudaMemcpyHostToDevice);\n",
        "  cudaMemcpyToSymbol(d_tau,h_tau,3*sizeof(float),0,cudaMemcpyHostToDevice);\n",
        "\n",
        "    //DISTRIBUTION FUNCTIONS\n",
        "  //Build the dynamic matrices on the host\n",
        "   h_f=new float [ArraySize];  h_fnew=new float [ArraySize];\n",
        "   //Build the dynamic matrices on the device\n",
        "   cudaMalloc((void**) &d_f,ArraySize*sizeof(float));\n",
        "   cudaMalloc((void**) &d_fnew,ArraySize*sizeof(float));\n",
        "\n",
        "}\n",
        "LatticeBoltzmann::~LatticeBoltzmann(void){\n",
        "  delete[] h_f;  delete[] h_fnew;\n",
        "  cudaFree(d_f);  cudaFree(d_fnew);}\n",
        "float LatticeBoltzmann::h_rho(int ix,int iy){\n",
        "  //Note: Please import data from device before running\n",
        "  float sum; int i,n0;\n",
        "  for(sum=0,i=0;i<Q;i++){\n",
        "    n0=h_n(ix,iy,i); sum+=h_fnew[n0];\n",
        "  }\n",
        "  return sum;\n",
        "}\n",
        "float LatticeBoltzmann::h_Jx(int ix,int iy){\n",
        "  //Note: Please import data from device before running\n",
        "  float sum; int i,n0;\n",
        "  for(sum=0,i=0;i<Q;i++){\n",
        "    n0=h_n(ix,iy,i); sum+=h_Vx[i]*h_fnew[n0];\n",
        "  }\n",
        "  return sum;\n",
        "}\n",
        "float LatticeBoltzmann::h_Jy(int ix,int iy){\n",
        "  //Note: Please import data from device before running\n",
        "  float sum; int i,n0;\n",
        "  for(sum=0,i=0;i<Q;i++){\n",
        "    n0=h_n(ix,iy,i); sum+=h_Vy[i]*h_fnew[n0];\n",
        "  }\n",
        "  return sum;\n",
        "}\n",
        "float  LatticeBoltzmann::h_feq(float rho0,float Jx0,float Jy0,int i){\n",
        "  if(i>0)\n",
        "    return 3*h_w[i]*(C2*rho0+h_Vx[i]*Jx0+h_Vy[i]*Jy0);\n",
        "  else\n",
        "    return rho0*AUX0;\n",
        "}\n",
        "\n",
        "void LatticeBoltzmann::Start(float rho0,float Jx0,float Jy0){\n",
        "  //Charge on the Host\n",
        "  int ix,iy,i,n0;\n",
        "  for(ix=0;ix<Lx;ix++) //for each cell\n",
        "    for(iy=0;iy<Ly;iy++)\n",
        "      for(i=0;i<Q;i++){ //on each direction\n",
        "\tn0=h_n(ix,iy,i); h_f[n0]=h_feq(rho0,Jx0,Jy0,i);\n",
        "      }\n",
        "  //Send to the Device\n",
        "  cudaMemcpy(d_f,h_f,ArraySize*sizeof(float),cudaMemcpyHostToDevice);\n",
        "}\n",
        "void LatticeBoltzmann::Collision(void){\n",
        "  //Do everything on the Device\n",
        "  dim3 ThreadsPerBlock(N,1,1);\n",
        "  dim3 BlocksPerGrid(M,1,1);\n",
        "  d_Collision<<<BlocksPerGrid,ThreadsPerBlock>>>(d_f,d_fnew);\n",
        "}\n",
        "void LatticeBoltzmann::ImposeFields(int t){\n",
        "  float lambda=10, omega=2*M_PI/lambda*C;\n",
        "  float RhoSource=10*sin(omega*t);\n",
        "  dim3 ThreadsPerBlock(1,1,1); //A single thread (in this case)\n",
        "  dim3 BlocksPerGrid(1,1,1);\n",
        "  d_ImposeFields<<<BlocksPerGrid,ThreadsPerBlock>>>(d_f,d_fnew,RhoSource);\n",
        "}\n",
        "void LatticeBoltzmann::Advection(void){\n",
        "  //Do everything on the Device\n",
        "  dim3 ThreadsPerBlock(N,1,1);\n",
        "  dim3 BlocksPerGrid(M,1,1);\n",
        "  d_Advection<<<BlocksPerGrid,ThreadsPerBlock>>>(d_f,d_fnew);\n",
        "}\n",
        "void LatticeBoltzmann::Print(const char * NameFile){\n",
        "  ofstream MyFile(NameFile); float rho0; int ix,iy;\n",
        "  //Bring back the data from Device to Host\n",
        "  cudaMemcpy(h_fnew,d_fnew,ArraySize*sizeof(float),cudaMemcpyDeviceToHost);\n",
        "  //Print for gnuplot splot\n",
        "  for(ix=0;ix<Lx;ix++){\n",
        "    for(iy=0;iy<Ly;iy++){\n",
        "      rho0=h_rho(ix,iy);\n",
        "      MyFile<<ix<<\" \"<<iy<<\" \"<<rho0<<endl;\n",
        "    }\n",
        "    MyFile<<endl;\n",
        "  }\n",
        "  MyFile.close();\n",
        "}\n",
        "//--------------- Global Functions ------------\n",
        "\n",
        "int main(void){\n",
        "  LatticeBoltzmann Waves;\n",
        "  int t,tmax=100;\n",
        "  float rho0=0,Jx0=0,Jy0=0;\n",
        "\n",
        "  //Start\n",
        "  Waves.Start(rho0,Jx0,Jy0);\n",
        "  //Run\n",
        "  for(t=0;t<tmax;t++){\n",
        "    Waves.Collision();\n",
        "    Waves.ImposeFields(t);\n",
        "    Waves.Advection();\n",
        "  }\n",
        "  //Show\n",
        "  Waves.Print(\"Ondas2D.dat\");\n",
        "\n",
        "  return 0;\n",
        "}\n"
      ],
      "metadata": {
        "colab": {
          "base_uri": "https://localhost:8080/"
        },
        "id": "R2b3ZpTdoTCo",
        "outputId": "5fd928d5-a6b9-4fdc-fce3-aa155562ec71"
      },
      "execution_count": null,
      "outputs": [
        {
          "output_type": "stream",
          "name": "stdout",
          "text": [
            "Overwriting RunCode.cu\n"
          ]
        }
      ]
    },
    {
      "cell_type": "markdown",
      "source": [
        "4. Compila el archivo .cu\n",
        "\n",
        "*   Las banderas colocadas en la compilación son necesarias cuando la tarjeta adjudicada es una K80.\n",
        "*   Si todo esta bien el resultado de esta prueba debe ser 8."
      ],
      "metadata": {
        "id": "8T6L-QHNKktA"
      }
    },
    {
      "cell_type": "code",
      "source": [
        "# Compila el archivo .cu. La bandera es necesaria si usa una tarjeta Tesla K80\n",
        "!nvcc -arch=sm_37 -gencode=arch=compute_37,code=sm_37 RunCode.cu -o Ejecutar\n",
        "!./Ejecutar"
      ],
      "metadata": {
        "colab": {
          "base_uri": "https://localhost:8080/"
        },
        "id": "kkuFP1vLK3l3",
        "outputId": "51fbf1fb-cb47-4c78-981f-3845eda49a2f"
      },
      "execution_count": null,
      "outputs": [
        {
          "output_type": "stream",
          "name": "stdout",
          "text": [
            "nvcc warning : The 'compute_35', 'compute_37', 'compute_50', 'sm_35', 'sm_37' and 'sm_50' architectures are deprecated, and may be removed in a future release (Use -Wno-deprecated-gpu-targets to suppress warning).\n"
          ]
        }
      ]
    },
    {
      "cell_type": "code",
      "source": [],
      "metadata": {
        "id": "Gf679g67GmmG"
      },
      "execution_count": null,
      "outputs": []
    }
  ]
}