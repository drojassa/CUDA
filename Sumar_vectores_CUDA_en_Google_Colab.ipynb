{
  "nbformat": 4,
  "nbformat_minor": 0,
  "metadata": {
    "colab": {
      "provenance": [],
      "include_colab_link": true
    },
    "kernelspec": {
      "name": "python3",
      "display_name": "Python 3"
    },
    "language_info": {
      "name": "python"
    },
    "accelerator": "GPU",
    "gpuClass": "standard"
  },
  "cells": [
    {
      "cell_type": "markdown",
      "metadata": {
        "id": "view-in-github",
        "colab_type": "text"
      },
      "source": [
        "<a href=\"https://colab.research.google.com/github/drojassa/CUDA/blob/main/Sumar_vectores_CUDA_en_Google_Colab.ipynb\" target=\"_parent\"><img src=\"https://colab.research.google.com/assets/colab-badge.svg\" alt=\"Open In Colab\"/></a>"
      ]
    },
    {
      "cell_type": "markdown",
      "source": [
        "## **Ejecución de código CUDA en GOOGLE COLAB**\n"
      ],
      "metadata": {
        "id": "Ee9N2kQVIFOg"
      }
    },
    {
      "cell_type": "markdown",
      "source": [
        "1. En el Entorno de ejecución se escoge la opción, Acelerador por GPU"
      ],
      "metadata": {
        "id": "1_bJW-shHihz"
      }
    },
    {
      "cell_type": "markdown",
      "source": [
        "2. Se carga Preámbulo para verificar GPU asignada"
      ],
      "metadata": {
        "id": "wcRKElN6IWd7"
      }
    },
    {
      "cell_type": "code",
      "source": [
        "# Mostrar si hay un toolkit CUDA instalado\n",
        "!ls /usr/local\n",
        "# Para mostrar si esta el comando nvcc disponible\n",
        "!which nvcc\n",
        "# Mostrar la tarjeta nvidia adjudicada\n",
        "gpu_info = !nvidia-smi\n",
        "gpu_info = '\\n'.join(gpu_info)\n",
        "if gpu_info.find('failed') >= 0:\n",
        "  print('Not connected to a GPU')\n",
        "else:\n",
        "  print(gpu_info)"
      ],
      "metadata": {
        "colab": {
          "base_uri": "https://localhost:8080/"
        },
        "id": "oRiBwgEGnuk9",
        "outputId": "c4831d13-983f-43fc-9b49-47e057bdecfb"
      },
      "execution_count": null,
      "outputs": [
        {
          "output_type": "stream",
          "name": "stdout",
          "text": [
            "bin   cuda-11\t etc\t_gcs_config_ops.so  lib        man   share  xgboost\n",
            "cuda  cuda-11.2  games\tinclude\t\t    licensing  sbin  src\n",
            "/usr/local/cuda/bin/nvcc\n",
            "Wed Nov  9 00:41:22 2022       \n",
            "+-----------------------------------------------------------------------------+\n",
            "| NVIDIA-SMI 460.32.03    Driver Version: 460.32.03    CUDA Version: 11.2     |\n",
            "|-------------------------------+----------------------+----------------------+\n",
            "| GPU  Name        Persistence-M| Bus-Id        Disp.A | Volatile Uncorr. ECC |\n",
            "| Fan  Temp  Perf  Pwr:Usage/Cap|         Memory-Usage | GPU-Util  Compute M. |\n",
            "|                               |                      |               MIG M. |\n",
            "|===============================+======================+======================|\n",
            "|   0  Tesla T4            Off  | 00000000:00:04.0 Off |                    0 |\n",
            "| N/A   47C    P8    11W /  70W |      0MiB / 15109MiB |      0%      Default |\n",
            "|                               |                      |                  N/A |\n",
            "+-------------------------------+----------------------+----------------------+\n",
            "                                                                               \n",
            "+-----------------------------------------------------------------------------+\n",
            "| Processes:                                                                  |\n",
            "|  GPU   GI   CI        PID   Type   Process name                  GPU Memory |\n",
            "|        ID   ID                                                   Usage      |\n",
            "|=============================================================================|\n",
            "|  No running processes found                                                 |\n",
            "+-----------------------------------------------------------------------------+\n"
          ]
        }
      ]
    },
    {
      "cell_type": "markdown",
      "source": [
        "3. Carga el código a utilizar en la carpeta de archivos, mediante el comando %%writefile RunCode.cu, Con el encabezado RunCode.cu. El código va a trabajar se pega debajo de: %%writefile RunCode.cu"
      ],
      "metadata": {
        "id": "T4u00TajKV1Y"
      }
    },
    {
      "cell_type": "code",
      "source": [
        "#Escribe el archivo .cu que se vaya a utilizar\n",
        "\n",
        "%%writefile RunCode.cu\n",
        "\n",
        "#include <iostream>\n",
        "#include <fstream>\n",
        "#include <cmath>\n",
        "\n",
        "using namespace std;\n",
        "\n",
        "#define Lx 16\n",
        "#define Nx 8\n",
        "const int Mx=(Lx+Nx-1)/Nx;\n",
        "\n",
        "//----------Programa del device-----------\n",
        "//----------Kernels-----------------------\n",
        "__global__ void AddTwoVectors(float *d_a, float *d_b, float *d_c){\n",
        "    //Qué tarea me toca?\n",
        "    int ix; ix=blockIdx.x*blockDim.x+threadIdx.x;\n",
        "    d_c[ix]=d_a[ix]+d_b[ix];\n",
        "}\n",
        "\n",
        "//----------Programa del host-------------\n",
        "int main(void){\n",
        "    int ix;\n",
        "    //Declarar todas las variables por duplicado\n",
        "    //-----en el host\n",
        "    float h_a[Lx],h_b[Lx],h_c[Lx];\n",
        "    //-----en el device\n",
        "    float *d_a; cudaMalloc((void**) &d_a, Lx*sizeof(float));\n",
        "    float *d_b; cudaMalloc((void**) &d_b, Lx*sizeof(float));\n",
        "    float *d_c; cudaMalloc((void**) &d_c, Lx*sizeof(float));\n",
        "\n",
        "    //LLenar los datos en el host\n",
        "    for (ix=0;ix<Lx;ix++){\n",
        "        h_a[ix]=ix;h_b[ix]=2*ix;\n",
        "    }\n",
        "\n",
        "    //Enviar al device\n",
        "    cudaMemcpy(d_a,h_a,Lx*sizeof(float),cudaMemcpyHostToDevice);\n",
        "    cudaMemcpy(d_b,h_b,Lx*sizeof(float),cudaMemcpyHostToDevice);\n",
        "\n",
        "    //correr en el device\n",
        "    dim3 ThreadsPerBlock(Nx,1,1);\n",
        "    dim3 BlocksPerGrid(Mx,1,1);\n",
        "    AddTwoVectors<<< BlocksPerGrid,ThreadsPerBlock >>>(d_a,d_b,d_c);\n",
        "\n",
        "    //Devolver el resultado al host\n",
        "    cudaMemcpy(h_c,d_c,Lx*sizeof(float),cudaMemcpyDeviceToHost);\n",
        "\n",
        "    //Imprimir resultados\n",
        "    for (ix=0;ix<Lx;ix++)\n",
        "        cout<<h_c[ix]<<endl;\n",
        "    cudaFree(d_a);cudaFree(d_b);cudaFree(d_c);\n",
        "    return 0;\n",
        "}\n"
      ],
      "metadata": {
        "colab": {
          "base_uri": "https://localhost:8080/"
        },
        "id": "R2b3ZpTdoTCo",
        "outputId": "e0328d75-14a5-40bc-d4ca-87d4942c920f"
      },
      "execution_count": null,
      "outputs": [
        {
          "output_type": "stream",
          "name": "stdout",
          "text": [
            "Overwriting RunCode.cu\n"
          ]
        }
      ]
    },
    {
      "cell_type": "markdown",
      "source": [
        "4. Compila el archivo .cu\n",
        "\n",
        "*   Las banderas colocadas en la compilación son necesarias cuando la tarjeta adjudicada es una K80.\n",
        "*   Si todo esta bien el resultado de esta prueba debe ser 8."
      ],
      "metadata": {
        "id": "8T6L-QHNKktA"
      }
    },
    {
      "cell_type": "code",
      "source": [
        "# Compila el archivo .cu. La bandera es necesaria si usa una tarjeta Tesla K80\n",
        "!nvcc -arch=sm_37 -gencode=arch=compute_37,code=sm_37 RunCode.cu -o Ejecutar\n",
        "!./Ejecutar"
      ],
      "metadata": {
        "colab": {
          "base_uri": "https://localhost:8080/"
        },
        "id": "kkuFP1vLK3l3",
        "outputId": "b8dfcd2b-9cdd-4256-b326-fe9f3151fba2"
      },
      "execution_count": null,
      "outputs": [
        {
          "output_type": "stream",
          "name": "stdout",
          "text": [
            "nvcc warning : The 'compute_35', 'compute_37', 'compute_50', 'sm_35', 'sm_37' and 'sm_50' architectures are deprecated, and may be removed in a future release (Use -Wno-deprecated-gpu-targets to suppress warning).\n",
            "0\n",
            "3\n",
            "6\n",
            "9\n",
            "12\n",
            "15\n",
            "18\n",
            "21\n",
            "24\n",
            "27\n",
            "30\n",
            "33\n",
            "36\n",
            "39\n",
            "42\n",
            "45\n"
          ]
        }
      ]
    },
    {
      "cell_type": "code",
      "source": [],
      "metadata": {
        "id": "Gf679g67GmmG"
      },
      "execution_count": null,
      "outputs": []
    }
  ]
}